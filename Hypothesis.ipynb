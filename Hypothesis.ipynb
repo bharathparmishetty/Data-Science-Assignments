{
  "nbformat": 4,
  "nbformat_minor": 0,
  "metadata": {
    "colab": {
      "provenance": []
    },
    "kernelspec": {
      "name": "python3",
      "display_name": "Python 3"
    },
    "language_info": {
      "name": "python"
    }
  },
  "cells": [
    {
      "cell_type": "code",
      "execution_count": 1,
      "metadata": {
        "id": "x2NF_VHv-xhe"
      },
      "outputs": [],
      "source": [
        "#null hypothesis=theoretical cost model is accurate\n",
        "#alternate hypothesis=theoretical cost model is not accurate\n"
      ]
    },
    {
      "cell_type": "code",
      "source": [
        "from scipy import stats\n",
        "t_critical=stats.t.ppf(0.975,24)\n",
        "print(\"t_critical value:\",t_critical)"
      ],
      "metadata": {
        "colab": {
          "base_uri": "https://localhost:8080/"
        },
        "id": "t-hnzK9p_Duj",
        "outputId": "b2617726-3141-4264-a70b-ad5472bda1fb"
      },
      "execution_count": 2,
      "outputs": [
        {
          "output_type": "stream",
          "name": "stdout",
          "text": [
            "t_critical value: 2.0638985616280205\n"
          ]
        }
      ]
    },
    {
      "cell_type": "code",
      "source": [
        "import numpy as np\n",
        "sample_mean=3050\n",
        "population_mean=320000\n",
        "sample_std=125\n",
        "n=25\n",
        "t_stat=(sample_mean-population_mean)/(sample_std/np.sqrt(25))\n",
        "print(\"t_statistical value:\",t_stat)"
      ],
      "metadata": {
        "colab": {
          "base_uri": "https://localhost:8080/"
        },
        "id": "ua_HdtD9AOiR",
        "outputId": "82ebaeaf-6ddf-488a-a868-fc46753dbf20"
      },
      "execution_count": 7,
      "outputs": [
        {
          "output_type": "stream",
          "name": "stdout",
          "text": [
            "t_statistical value: -12678.0\n"
          ]
        }
      ]
    },
    {
      "cell_type": "code",
      "source": [
        "#t_statistical value is lessthan t_critical value hence accept null hypothesis"
      ],
      "metadata": {
        "id": "rM165BinFHls"
      },
      "execution_count": null,
      "outputs": []
    }
  ]
}