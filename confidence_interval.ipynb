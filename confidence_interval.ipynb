{
  "nbformat": 4,
  "nbformat_minor": 0,
  "metadata": {
    "colab": {
      "provenance": []
    },
    "kernelspec": {
      "name": "python3",
      "display_name": "Python 3"
    },
    "language_info": {
      "name": "python"
    }
  },
  "cells": [
    {
      "cell_type": "markdown",
      "source": [
        "**Build 99% Confidence Interval Using Sample Standard Deviation**\n",
        "steps\n",
        "1.import libraries\n",
        "2.sample standard deviation is known use t-distribution\n",
        "3.finding t_score for 99% confidence level\n",
        "4.finding margin of error\n",
        "5.finding lower bound and upper bound"
      ],
      "metadata": {
        "id": "dvdgd76RWAcH"
      }
    },
    {
      "cell_type": "code",
      "source": [
        "from scipy import stats\n",
        "import numpy as np\n",
        "data=np.array([1.13, 1.55, 1.43, 0.92, 1.25, 1.36, 1.32, 0.85, 1.07, 1.48, 1.20, 1.33, 1.18, 1.22, 1.29])\n",
        "#finding t-score for 99% confidence level with degrees of freedom n-1\n",
        "t_score=stats.t.ppf(0.995,14)\n",
        "t_score"
      ],
      "metadata": {
        "colab": {
          "base_uri": "https://localhost:8080/"
        },
        "id": "nIgutZM7S0wu",
        "outputId": "540eb8f7-e656-43db-bba6-9c4f9904ed89"
      },
      "execution_count": 32,
      "outputs": [
        {
          "output_type": "execute_result",
          "data": {
            "text/plain": [
              "2.976842734370834"
            ]
          },
          "metadata": {},
          "execution_count": 32
        }
      ]
    },
    {
      "cell_type": "code",
      "source": [
        "#calculating margin of error\n",
        "margin_of_error=t_score*np.std(data)/np.sqrt(15)\n",
        "margin_of_error"
      ],
      "metadata": {
        "colab": {
          "base_uri": "https://localhost:8080/"
        },
        "id": "o4AOZSpzTv6D",
        "outputId": "ae9b7895-bd37-427b-cb8b-229b76915e14"
      },
      "execution_count": 33,
      "outputs": [
        {
          "output_type": "execute_result",
          "data": {
            "text/plain": [
              "0.14343499804054374"
            ]
          },
          "metadata": {},
          "execution_count": 33
        }
      ]
    },
    {
      "cell_type": "code",
      "source": [
        "lower_bound=np.mean(data) - margin_of_error\n",
        "upper_bound=np.mean(data) + margin_of_error\n",
        "print(\"for 99% confidence interval(sample std):\",[lower_bound,upper_bound])"
      ],
      "metadata": {
        "colab": {
          "base_uri": "https://localhost:8080/"
        },
        "id": "2gg1M9jkUU9b",
        "outputId": "b525f490-3076-43e5-f5dc-a5fb5704f6be"
      },
      "execution_count": 34,
      "outputs": [
        {
          "output_type": "stream",
          "name": "stdout",
          "text": [
            "for 99% confidence interval(sample std): [1.0952316686261228, 1.3821016647072104]\n"
          ]
        }
      ]
    },
    {
      "cell_type": "markdown",
      "source": [
        "Building 99% Confidence Interval Using Known Population Standard Deviation"
      ],
      "metadata": {
        "id": "lB15lX8RZKv7"
      }
    },
    {
      "cell_type": "code",
      "source": [
        "#finding z_score for 99% confidence level\n",
        "z_score=stats.norm.ppf(0.995)\n",
        "z_score"
      ],
      "metadata": {
        "colab": {
          "base_uri": "https://localhost:8080/"
        },
        "id": "GyjtCrT3V19m",
        "outputId": "798ed7e7-0a2b-4360-ecf8-fb172cf9e2c7"
      },
      "execution_count": 35,
      "outputs": [
        {
          "output_type": "execute_result",
          "data": {
            "text/plain": [
              "2.5758293035489004"
            ]
          },
          "metadata": {},
          "execution_count": 35
        }
      ]
    },
    {
      "cell_type": "code",
      "source": [
        "#finding margin of error\n",
        "margin_of_error=z_score*(0.2)/np.sqrt(15)\n",
        "margin_of_error"
      ],
      "metadata": {
        "colab": {
          "base_uri": "https://localhost:8080/"
        },
        "id": "6NNtJrMEXsuj",
        "outputId": "89fad314-dc96-490b-f014-78e26f8c9416"
      },
      "execution_count": 36,
      "outputs": [
        {
          "output_type": "execute_result",
          "data": {
            "text/plain": [
              "0.13301525327090588"
            ]
          },
          "metadata": {},
          "execution_count": 36
        }
      ]
    },
    {
      "cell_type": "code",
      "source": [
        "lower_bound=np.mean(data) - margin_of_error\n",
        "upper_bound=np.mean(data) + margin_of_error\n",
        "print(\"for 99% confidence interval(known population std)\",[lower_bound,upper_bound])"
      ],
      "metadata": {
        "colab": {
          "base_uri": "https://localhost:8080/"
        },
        "id": "5TkiFyd0YF_y",
        "outputId": "7882ef24-f05e-4009-fb0f-2de815e401ee"
      },
      "execution_count": 37,
      "outputs": [
        {
          "output_type": "stream",
          "name": "stdout",
          "text": [
            "for 99% confidence interval(known population std) [1.1056514133957607, 1.3716819199375725]\n"
          ]
        }
      ]
    }
  ]
}